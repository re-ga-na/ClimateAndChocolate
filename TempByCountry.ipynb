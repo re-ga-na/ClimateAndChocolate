{
 "cells": [
  {
   "cell_type": "code",
   "execution_count": 111,
   "metadata": {},
   "outputs": [
    {
     "ename": "ModuleNotFoundError",
     "evalue": "No module named 'DataFrame'",
     "output_type": "error",
     "traceback": [
      "\u001b[0;31m---------------------------------------------------------------------------\u001b[0m",
      "\u001b[0;31mModuleNotFoundError\u001b[0m                       Traceback (most recent call last)",
      "\u001b[0;32m<ipython-input-111-49a836b10fc8>\u001b[0m in \u001b[0;36m<module>\u001b[0;34m\u001b[0m\n\u001b[1;32m      2\u001b[0m \u001b[0;32mimport\u001b[0m \u001b[0mpandas\u001b[0m \u001b[0;32mas\u001b[0m \u001b[0mpd\u001b[0m\u001b[0;34m\u001b[0m\u001b[0;34m\u001b[0m\u001b[0m\n\u001b[1;32m      3\u001b[0m \u001b[0;32mimport\u001b[0m \u001b[0mnumpy\u001b[0m \u001b[0;32mas\u001b[0m \u001b[0mnp\u001b[0m\u001b[0;34m\u001b[0m\u001b[0;34m\u001b[0m\u001b[0m\n\u001b[0;32m----> 4\u001b[0;31m \u001b[0;32mimport\u001b[0m \u001b[0mDataFrame\u001b[0m \u001b[0;32mas\u001b[0m \u001b[0mdf\u001b[0m\u001b[0;34m\u001b[0m\u001b[0;34m\u001b[0m\u001b[0m\n\u001b[0m\u001b[1;32m      5\u001b[0m \u001b[0;34m\u001b[0m\u001b[0m\n\u001b[1;32m      6\u001b[0m \u001b[0;31m#import datetime\u001b[0m\u001b[0;34m\u001b[0m\u001b[0;34m\u001b[0m\u001b[0;34m\u001b[0m\u001b[0m\n",
      "\u001b[0;31mModuleNotFoundError\u001b[0m: No module named 'DataFrame'"
     ]
    }
   ],
   "source": [
    "import matplotlib.pyplot as plt\n",
    "import pandas as pd\n",
    "import numpy as np\n",
    "\n",
    "#import datetime"
   ]
  },
  {
   "cell_type": "code",
   "execution_count": 112,
   "metadata": {},
   "outputs": [
    {
     "data": {
      "text/html": [
       "<div>\n",
       "<style scoped>\n",
       "    .dataframe tbody tr th:only-of-type {\n",
       "        vertical-align: middle;\n",
       "    }\n",
       "\n",
       "    .dataframe tbody tr th {\n",
       "        vertical-align: top;\n",
       "    }\n",
       "\n",
       "    .dataframe thead th {\n",
       "        text-align: right;\n",
       "    }\n",
       "</style>\n",
       "<table border=\"1\" class=\"dataframe\">\n",
       "  <thead>\n",
       "    <tr style=\"text-align: right;\">\n",
       "      <th></th>\n",
       "      <th>dt</th>\n",
       "      <th>AverageTemperature</th>\n",
       "      <th>AverageTemperatureUncertainty</th>\n",
       "      <th>Country</th>\n",
       "    </tr>\n",
       "  </thead>\n",
       "  <tbody>\n",
       "    <tr>\n",
       "      <td>0</td>\n",
       "      <td>1743-11-01</td>\n",
       "      <td>4.384</td>\n",
       "      <td>2.294</td>\n",
       "      <td>Åland</td>\n",
       "    </tr>\n",
       "    <tr>\n",
       "      <td>1</td>\n",
       "      <td>1743-12-01</td>\n",
       "      <td>NaN</td>\n",
       "      <td>NaN</td>\n",
       "      <td>Åland</td>\n",
       "    </tr>\n",
       "    <tr>\n",
       "      <td>2</td>\n",
       "      <td>1744-01-01</td>\n",
       "      <td>NaN</td>\n",
       "      <td>NaN</td>\n",
       "      <td>Åland</td>\n",
       "    </tr>\n",
       "    <tr>\n",
       "      <td>3</td>\n",
       "      <td>1744-02-01</td>\n",
       "      <td>NaN</td>\n",
       "      <td>NaN</td>\n",
       "      <td>Åland</td>\n",
       "    </tr>\n",
       "    <tr>\n",
       "      <td>4</td>\n",
       "      <td>1744-03-01</td>\n",
       "      <td>NaN</td>\n",
       "      <td>NaN</td>\n",
       "      <td>Åland</td>\n",
       "    </tr>\n",
       "  </tbody>\n",
       "</table>\n",
       "</div>"
      ],
      "text/plain": [
       "           dt  AverageTemperature  AverageTemperatureUncertainty Country\n",
       "0  1743-11-01               4.384                          2.294   Åland\n",
       "1  1743-12-01                 NaN                            NaN   Åland\n",
       "2  1744-01-01                 NaN                            NaN   Åland\n",
       "3  1744-02-01                 NaN                            NaN   Åland\n",
       "4  1744-03-01                 NaN                            NaN   Åland"
      ]
     },
     "execution_count": 112,
     "metadata": {},
     "output_type": "execute_result"
    }
   ],
   "source": [
    "csv_path = \"GlobalLandTemperaturesByCountry.csv\"\n",
    "country_temps = pd.read_csv(csv_path)\n",
    "country_temps.head()"
   ]
  },
  {
   "cell_type": "code",
   "execution_count": 113,
   "metadata": {},
   "outputs": [
    {
     "data": {
      "text/plain": [
       "dt                               577462\n",
       "AverageTemperature               544811\n",
       "AverageTemperatureUncertainty    545550\n",
       "Country                          577462\n",
       "dtype: int64"
      ]
     },
     "execution_count": 113,
     "metadata": {},
     "output_type": "execute_result"
    }
   ],
   "source": [
    "country_temps.count()"
   ]
  },
  {
   "cell_type": "code",
   "execution_count": 114,
   "metadata": {},
   "outputs": [
    {
     "data": {
      "text/plain": [
       "dt                                object\n",
       "AverageTemperature               float64\n",
       "AverageTemperatureUncertainty    float64\n",
       "Country                           object\n",
       "dtype: object"
      ]
     },
     "execution_count": 114,
     "metadata": {},
     "output_type": "execute_result"
    }
   ],
   "source": [
    "country_temps.dtypes"
   ]
  },
  {
   "cell_type": "code",
   "execution_count": null,
   "metadata": {},
   "outputs": [],
   "source": []
  },
  {
   "cell_type": "code",
   "execution_count": 115,
   "metadata": {},
   "outputs": [
    {
     "data": {
      "text/plain": [
       "Index(['dt', 'AverageTemperature', 'AverageTemperatureUncertainty', 'Country'], dtype='object')"
      ]
     },
     "execution_count": 115,
     "metadata": {},
     "output_type": "execute_result"
    }
   ],
   "source": [
    "country_temps.columns"
   ]
  },
  {
   "cell_type": "code",
   "execution_count": 116,
   "metadata": {},
   "outputs": [
    {
     "data": {
      "text/html": [
       "<div>\n",
       "<style scoped>\n",
       "    .dataframe tbody tr th:only-of-type {\n",
       "        vertical-align: middle;\n",
       "    }\n",
       "\n",
       "    .dataframe tbody tr th {\n",
       "        vertical-align: top;\n",
       "    }\n",
       "\n",
       "    .dataframe thead th {\n",
       "        text-align: right;\n",
       "    }\n",
       "</style>\n",
       "<table border=\"1\" class=\"dataframe\">\n",
       "  <thead>\n",
       "    <tr style=\"text-align: right;\">\n",
       "      <th></th>\n",
       "      <th>Reading Date</th>\n",
       "      <th>Average Temperature, Celsius</th>\n",
       "      <th>Average Temperature Uncertainty</th>\n",
       "      <th>Country</th>\n",
       "    </tr>\n",
       "  </thead>\n",
       "  <tbody>\n",
       "    <tr>\n",
       "      <td>0</td>\n",
       "      <td>1743-11-01</td>\n",
       "      <td>4.384</td>\n",
       "      <td>2.294</td>\n",
       "      <td>Åland</td>\n",
       "    </tr>\n",
       "    <tr>\n",
       "      <td>1</td>\n",
       "      <td>1743-12-01</td>\n",
       "      <td>NaN</td>\n",
       "      <td>NaN</td>\n",
       "      <td>Åland</td>\n",
       "    </tr>\n",
       "    <tr>\n",
       "      <td>2</td>\n",
       "      <td>1744-01-01</td>\n",
       "      <td>NaN</td>\n",
       "      <td>NaN</td>\n",
       "      <td>Åland</td>\n",
       "    </tr>\n",
       "    <tr>\n",
       "      <td>3</td>\n",
       "      <td>1744-02-01</td>\n",
       "      <td>NaN</td>\n",
       "      <td>NaN</td>\n",
       "      <td>Åland</td>\n",
       "    </tr>\n",
       "    <tr>\n",
       "      <td>4</td>\n",
       "      <td>1744-03-01</td>\n",
       "      <td>NaN</td>\n",
       "      <td>NaN</td>\n",
       "      <td>Åland</td>\n",
       "    </tr>\n",
       "    <tr>\n",
       "      <td>5</td>\n",
       "      <td>1744-04-01</td>\n",
       "      <td>1.530</td>\n",
       "      <td>4.680</td>\n",
       "      <td>Åland</td>\n",
       "    </tr>\n",
       "    <tr>\n",
       "      <td>6</td>\n",
       "      <td>1744-05-01</td>\n",
       "      <td>6.702</td>\n",
       "      <td>1.789</td>\n",
       "      <td>Åland</td>\n",
       "    </tr>\n",
       "    <tr>\n",
       "      <td>7</td>\n",
       "      <td>1744-06-01</td>\n",
       "      <td>11.609</td>\n",
       "      <td>1.577</td>\n",
       "      <td>Åland</td>\n",
       "    </tr>\n",
       "    <tr>\n",
       "      <td>8</td>\n",
       "      <td>1744-07-01</td>\n",
       "      <td>15.342</td>\n",
       "      <td>1.410</td>\n",
       "      <td>Åland</td>\n",
       "    </tr>\n",
       "    <tr>\n",
       "      <td>9</td>\n",
       "      <td>1744-08-01</td>\n",
       "      <td>NaN</td>\n",
       "      <td>NaN</td>\n",
       "      <td>Åland</td>\n",
       "    </tr>\n",
       "  </tbody>\n",
       "</table>\n",
       "</div>"
      ],
      "text/plain": [
       "  Reading Date  Average Temperature, Celsius  Average Temperature Uncertainty  \\\n",
       "0   1743-11-01                         4.384                            2.294   \n",
       "1   1743-12-01                           NaN                              NaN   \n",
       "2   1744-01-01                           NaN                              NaN   \n",
       "3   1744-02-01                           NaN                              NaN   \n",
       "4   1744-03-01                           NaN                              NaN   \n",
       "5   1744-04-01                         1.530                            4.680   \n",
       "6   1744-05-01                         6.702                            1.789   \n",
       "7   1744-06-01                        11.609                            1.577   \n",
       "8   1744-07-01                        15.342                            1.410   \n",
       "9   1744-08-01                           NaN                              NaN   \n",
       "\n",
       "  Country  \n",
       "0   Åland  \n",
       "1   Åland  \n",
       "2   Åland  \n",
       "3   Åland  \n",
       "4   Åland  \n",
       "5   Åland  \n",
       "6   Åland  \n",
       "7   Åland  \n",
       "8   Åland  \n",
       "9   Åland  "
      ]
     },
     "execution_count": 116,
     "metadata": {},
     "output_type": "execute_result"
    }
   ],
   "source": [
    "#renaming columns\n",
    "country_temps = country_temps.rename(columns={\"dt\": \"Reading Date\", \"AverageTemperature\":\"Average Temperature, Celsius\", \"AverageTemperatureUncertainty\": \"Average Temperature Uncertainty\", \"Country\": \"Country\"})\n",
    "\n",
    "country_temps.head(10)"
   ]
  },
  {
   "cell_type": "code",
   "execution_count": null,
   "metadata": {},
   "outputs": [],
   "source": []
  },
  {
   "cell_type": "code",
   "execution_count": null,
   "metadata": {},
   "outputs": [],
   "source": []
  },
  {
   "cell_type": "code",
   "execution_count": 117,
   "metadata": {},
   "outputs": [
    {
     "data": {
      "text/html": [
       "<div>\n",
       "<style scoped>\n",
       "    .dataframe tbody tr th:only-of-type {\n",
       "        vertical-align: middle;\n",
       "    }\n",
       "\n",
       "    .dataframe tbody tr th {\n",
       "        vertical-align: top;\n",
       "    }\n",
       "\n",
       "    .dataframe thead th {\n",
       "        text-align: right;\n",
       "    }\n",
       "</style>\n",
       "<table border=\"1\" class=\"dataframe\">\n",
       "  <thead>\n",
       "    <tr style=\"text-align: right;\">\n",
       "      <th></th>\n",
       "      <th>Reading Date</th>\n",
       "      <th>Average Temperature, Celsius</th>\n",
       "      <th>Average Temperature Uncertainty</th>\n",
       "      <th>Country</th>\n",
       "    </tr>\n",
       "  </thead>\n",
       "  <tbody>\n",
       "    <tr>\n",
       "      <td>0</td>\n",
       "      <td>1743-11-01</td>\n",
       "      <td>4.384</td>\n",
       "      <td>2.294</td>\n",
       "      <td>Åland</td>\n",
       "    </tr>\n",
       "    <tr>\n",
       "      <td>5</td>\n",
       "      <td>1744-04-01</td>\n",
       "      <td>1.530</td>\n",
       "      <td>4.680</td>\n",
       "      <td>Åland</td>\n",
       "    </tr>\n",
       "    <tr>\n",
       "      <td>6</td>\n",
       "      <td>1744-05-01</td>\n",
       "      <td>6.702</td>\n",
       "      <td>1.789</td>\n",
       "      <td>Åland</td>\n",
       "    </tr>\n",
       "    <tr>\n",
       "      <td>7</td>\n",
       "      <td>1744-06-01</td>\n",
       "      <td>11.609</td>\n",
       "      <td>1.577</td>\n",
       "      <td>Åland</td>\n",
       "    </tr>\n",
       "    <tr>\n",
       "      <td>8</td>\n",
       "      <td>1744-07-01</td>\n",
       "      <td>15.342</td>\n",
       "      <td>1.410</td>\n",
       "      <td>Åland</td>\n",
       "    </tr>\n",
       "    <tr>\n",
       "      <td>10</td>\n",
       "      <td>1744-09-01</td>\n",
       "      <td>11.702</td>\n",
       "      <td>1.517</td>\n",
       "      <td>Åland</td>\n",
       "    </tr>\n",
       "    <tr>\n",
       "      <td>11</td>\n",
       "      <td>1744-10-01</td>\n",
       "      <td>5.477</td>\n",
       "      <td>1.862</td>\n",
       "      <td>Åland</td>\n",
       "    </tr>\n",
       "    <tr>\n",
       "      <td>12</td>\n",
       "      <td>1744-11-01</td>\n",
       "      <td>3.407</td>\n",
       "      <td>1.425</td>\n",
       "      <td>Åland</td>\n",
       "    </tr>\n",
       "    <tr>\n",
       "      <td>13</td>\n",
       "      <td>1744-12-01</td>\n",
       "      <td>-2.181</td>\n",
       "      <td>1.641</td>\n",
       "      <td>Åland</td>\n",
       "    </tr>\n",
       "    <tr>\n",
       "      <td>14</td>\n",
       "      <td>1745-01-01</td>\n",
       "      <td>-3.850</td>\n",
       "      <td>1.841</td>\n",
       "      <td>Åland</td>\n",
       "    </tr>\n",
       "  </tbody>\n",
       "</table>\n",
       "</div>"
      ],
      "text/plain": [
       "   Reading Date  Average Temperature, Celsius  \\\n",
       "0    1743-11-01                         4.384   \n",
       "5    1744-04-01                         1.530   \n",
       "6    1744-05-01                         6.702   \n",
       "7    1744-06-01                        11.609   \n",
       "8    1744-07-01                        15.342   \n",
       "10   1744-09-01                        11.702   \n",
       "11   1744-10-01                         5.477   \n",
       "12   1744-11-01                         3.407   \n",
       "13   1744-12-01                        -2.181   \n",
       "14   1745-01-01                        -3.850   \n",
       "\n",
       "    Average Temperature Uncertainty Country  \n",
       "0                             2.294   Åland  \n",
       "5                             4.680   Åland  \n",
       "6                             1.789   Åland  \n",
       "7                             1.577   Åland  \n",
       "8                             1.410   Åland  \n",
       "10                            1.517   Åland  \n",
       "11                            1.862   Åland  \n",
       "12                            1.425   Åland  \n",
       "13                            1.641   Åland  \n",
       "14                            1.841   Åland  "
      ]
     },
     "execution_count": 117,
     "metadata": {},
     "output_type": "execute_result"
    }
   ],
   "source": [
    "#Removes lines without temp. readings\n",
    "\n",
    "dropna_country_temps = country_temps.dropna(subset=['Average Temperature, Celsius'])\n",
    "#dropna_country_temps = country_temps.dropna(subset=['Average Temperature Uncertainty'])\n",
    "dropna_country_temps.head(10)"
   ]
  },
  {
   "cell_type": "code",
   "execution_count": 118,
   "metadata": {},
   "outputs": [
    {
     "data": {
      "text/plain": [
       "Reading Date                       544811\n",
       "Average Temperature, Celsius       544811\n",
       "Average Temperature Uncertainty    544811\n",
       "Country                            544811\n",
       "dtype: int64"
      ]
     },
     "execution_count": 118,
     "metadata": {},
     "output_type": "execute_result"
    }
   ],
   "source": [
    "dropna_country_temps.count()"
   ]
  },
  {
   "cell_type": "code",
   "execution_count": 119,
   "metadata": {},
   "outputs": [
    {
     "data": {
      "text/plain": [
       "array(['Åland', 'Afghanistan', 'Africa', 'Albania', 'Algeria',\n",
       "       'American Samoa', 'Andorra', 'Angola', 'Anguilla',\n",
       "       'Antigua And Barbuda', 'Argentina', 'Armenia', 'Aruba', 'Asia',\n",
       "       'Australia', 'Austria', 'Azerbaijan', 'Bahamas', 'Bahrain',\n",
       "       'Baker Island', 'Bangladesh', 'Barbados', 'Belarus', 'Belgium',\n",
       "       'Belize', 'Benin', 'Bhutan', 'Bolivia',\n",
       "       'Bonaire, Saint Eustatius And Saba', 'Bosnia And Herzegovina',\n",
       "       'Botswana', 'Brazil', 'British Virgin Islands', 'Bulgaria',\n",
       "       'Burkina Faso', 'Burma', 'Burundi', \"Côte D'Ivoire\", 'Cambodia',\n",
       "       'Cameroon', 'Canada', 'Cape Verde', 'Cayman Islands',\n",
       "       'Central African Republic', 'Chad', 'Chile', 'China',\n",
       "       'Christmas Island', 'Colombia', 'Comoros',\n",
       "       'Congo (Democratic Republic Of The)', 'Congo', 'Costa Rica',\n",
       "       'Croatia', 'Cuba', 'Curaçao', 'Cyprus', 'Czech Republic',\n",
       "       'Denmark (Europe)', 'Denmark', 'Djibouti', 'Dominica',\n",
       "       'Dominican Republic', 'Ecuador', 'Egypt', 'El Salvador',\n",
       "       'Equatorial Guinea', 'Eritrea', 'Estonia', 'Ethiopia', 'Europe',\n",
       "       'Falkland Islands (Islas Malvinas)', 'Faroe Islands',\n",
       "       'Federated States Of Micronesia', 'Fiji', 'Finland',\n",
       "       'France (Europe)', 'France', 'French Guiana', 'French Polynesia',\n",
       "       'French Southern And Antarctic Lands', 'Gabon', 'Gambia',\n",
       "       'Gaza Strip', 'Georgia', 'Germany', 'Ghana', 'Greece', 'Greenland',\n",
       "       'Grenada', 'Guadeloupe', 'Guam', 'Guatemala', 'Guernsey',\n",
       "       'Guinea Bissau', 'Guinea', 'Guyana', 'Haiti',\n",
       "       'Heard Island And Mcdonald Islands', 'Honduras', 'Hong Kong',\n",
       "       'Hungary', 'Iceland', 'India', 'Indonesia', 'Iran', 'Iraq',\n",
       "       'Ireland', 'Isle Of Man', 'Israel', 'Italy', 'Jamaica', 'Japan',\n",
       "       'Jersey', 'Jordan', 'Kazakhstan', 'Kenya', 'Kingman Reef',\n",
       "       'Kiribati', 'Kuwait', 'Kyrgyzstan', 'Laos', 'Latvia', 'Lebanon',\n",
       "       'Lesotho', 'Liberia', 'Libya', 'Liechtenstein', 'Lithuania',\n",
       "       'Luxembourg', 'Macau', 'Macedonia', 'Madagascar', 'Malawi',\n",
       "       'Malaysia', 'Mali', 'Malta', 'Martinique', 'Mauritania',\n",
       "       'Mauritius', 'Mayotte', 'Mexico', 'Moldova', 'Monaco', 'Mongolia',\n",
       "       'Montenegro', 'Montserrat', 'Morocco', 'Mozambique', 'Namibia',\n",
       "       'Nepal', 'Netherlands (Europe)', 'Netherlands', 'New Caledonia',\n",
       "       'New Zealand', 'Nicaragua', 'Niger', 'Nigeria', 'Niue',\n",
       "       'North America', 'North Korea', 'Northern Mariana Islands',\n",
       "       'Norway', 'Oceania', 'Oman', 'Pakistan', 'Palau', 'Palestina',\n",
       "       'Palmyra Atoll', 'Panama', 'Papua New Guinea', 'Paraguay', 'Peru',\n",
       "       'Philippines', 'Poland', 'Portugal', 'Puerto Rico', 'Qatar',\n",
       "       'Reunion', 'Romania', 'Russia', 'Rwanda', 'Saint Barthélemy',\n",
       "       'Saint Kitts And Nevis', 'Saint Lucia', 'Saint Martin',\n",
       "       'Saint Pierre And Miquelon', 'Saint Vincent And The Grenadines',\n",
       "       'Samoa', 'San Marino', 'Sao Tome And Principe', 'Saudi Arabia',\n",
       "       'Senegal', 'Serbia', 'Seychelles', 'Sierra Leone', 'Singapore',\n",
       "       'Sint Maarten', 'Slovakia', 'Slovenia', 'Solomon Islands',\n",
       "       'Somalia', 'South Africa', 'South America',\n",
       "       'South Georgia And The South Sandwich Isla', 'South Korea',\n",
       "       'Spain', 'Sri Lanka', 'Sudan', 'Suriname',\n",
       "       'Svalbard And Jan Mayen', 'Swaziland', 'Sweden', 'Switzerland',\n",
       "       'Syria', 'Taiwan', 'Tajikistan', 'Tanzania', 'Thailand',\n",
       "       'Timor Leste', 'Togo', 'Tonga', 'Trinidad And Tobago', 'Tunisia',\n",
       "       'Turkey', 'Turkmenistan', 'Turks And Caicas Islands', 'Uganda',\n",
       "       'Ukraine', 'United Arab Emirates', 'United Kingdom (Europe)',\n",
       "       'United Kingdom', 'United States', 'Uruguay', 'Uzbekistan',\n",
       "       'Venezuela', 'Vietnam', 'Virgin Islands', 'Western Sahara',\n",
       "       'Yemen', 'Zambia', 'Zimbabwe'], dtype=object)"
      ]
     },
     "execution_count": 119,
     "metadata": {},
     "output_type": "execute_result"
    }
   ],
   "source": [
    "#listing out names of countries w temp recordings\n",
    "dropna_country_temps.Country.unique()\n",
    "\n",
    "#dropna_country_temps[\"Country\"].value_counts()"
   ]
  },
  {
   "cell_type": "code",
   "execution_count": 124,
   "metadata": {},
   "outputs": [
    {
     "data": {
      "text/html": [
       "<div>\n",
       "<style scoped>\n",
       "    .dataframe tbody tr th:only-of-type {\n",
       "        vertical-align: middle;\n",
       "    }\n",
       "\n",
       "    .dataframe tbody tr th {\n",
       "        vertical-align: top;\n",
       "    }\n",
       "\n",
       "    .dataframe thead th {\n",
       "        text-align: right;\n",
       "    }\n",
       "</style>\n",
       "<table border=\"1\" class=\"dataframe\">\n",
       "  <thead>\n",
       "    <tr style=\"text-align: right;\">\n",
       "      <th></th>\n",
       "      <th>Reading Date</th>\n",
       "      <th>Average Temperature, Celsius</th>\n",
       "      <th>Average Temperature Uncertainty</th>\n",
       "    </tr>\n",
       "    <tr>\n",
       "      <th>Country</th>\n",
       "      <th></th>\n",
       "      <th></th>\n",
       "      <th></th>\n",
       "    </tr>\n",
       "  </thead>\n",
       "  <tbody>\n",
       "    <tr>\n",
       "      <td>Åland</td>\n",
       "      <td>1743-11-01</td>\n",
       "      <td>4.384</td>\n",
       "      <td>2.294</td>\n",
       "    </tr>\n",
       "    <tr>\n",
       "      <td>Åland</td>\n",
       "      <td>1744-04-01</td>\n",
       "      <td>1.530</td>\n",
       "      <td>4.680</td>\n",
       "    </tr>\n",
       "    <tr>\n",
       "      <td>Åland</td>\n",
       "      <td>1744-05-01</td>\n",
       "      <td>6.702</td>\n",
       "      <td>1.789</td>\n",
       "    </tr>\n",
       "    <tr>\n",
       "      <td>Åland</td>\n",
       "      <td>1744-06-01</td>\n",
       "      <td>11.609</td>\n",
       "      <td>1.577</td>\n",
       "    </tr>\n",
       "    <tr>\n",
       "      <td>Åland</td>\n",
       "      <td>1744-07-01</td>\n",
       "      <td>15.342</td>\n",
       "      <td>1.410</td>\n",
       "    </tr>\n",
       "  </tbody>\n",
       "</table>\n",
       "</div>"
      ],
      "text/plain": [
       "        Reading Date  Average Temperature, Celsius  \\\n",
       "Country                                              \n",
       "Åland     1743-11-01                         4.384   \n",
       "Åland     1744-04-01                         1.530   \n",
       "Åland     1744-05-01                         6.702   \n",
       "Åland     1744-06-01                        11.609   \n",
       "Åland     1744-07-01                        15.342   \n",
       "\n",
       "         Average Temperature Uncertainty  \n",
       "Country                                   \n",
       "Åland                              2.294  \n",
       "Åland                              4.680  \n",
       "Åland                              1.789  \n",
       "Åland                              1.577  \n",
       "Åland                              1.410  "
      ]
     },
     "execution_count": 124,
     "metadata": {},
     "output_type": "execute_result"
    }
   ],
   "source": [
    "#groups information by country\n",
    "\n",
    "df = dropna_country_temps.set_index(\"Country\")\n",
    "df.head()"
   ]
  },
  {
   "cell_type": "code",
   "execution_count": 121,
   "metadata": {},
   "outputs": [
    {
     "data": {
      "text/plain": [
       "Index([                   ['Reading Date'],\n",
       "          ['Average Temperature, Celsius'],\n",
       "       ['Average Temperature Uncertainty']],\n",
       "      dtype='object')"
      ]
     },
     "execution_count": 121,
     "metadata": {},
     "output_type": "execute_result"
    }
   ],
   "source": [
    "#pull out from 2006 to 2017\n",
    "\n",
    "df.columns.str.split('-')"
   ]
  },
  {
   "cell_type": "code",
   "execution_count": 122,
   "metadata": {},
   "outputs": [
    {
     "ename": "AttributeError",
     "evalue": "'Series' object has no attribute 'split'",
     "output_type": "error",
     "traceback": [
      "\u001b[0;31m---------------------------------------------------------------------------\u001b[0m",
      "\u001b[0;31mAttributeError\u001b[0m                            Traceback (most recent call last)",
      "\u001b[0;32m<ipython-input-122-e64af1e29c4d>\u001b[0m in \u001b[0;36m<module>\u001b[0;34m\u001b[0m\n\u001b[0;32m----> 1\u001b[0;31m \u001b[0;34m[\u001b[0m\u001b[0my\u001b[0m \u001b[0;32mfor\u001b[0m \u001b[0mx\u001b[0m \u001b[0;32min\u001b[0m \u001b[0mdatestosplit\u001b[0m\u001b[0;34m.\u001b[0m\u001b[0msplit\u001b[0m\u001b[0;34m(\u001b[0m\u001b[0;34m)\u001b[0m \u001b[0;32mfor\u001b[0m \u001b[0my\u001b[0m \u001b[0;32min\u001b[0m \u001b[0mx\u001b[0m\u001b[0;34m.\u001b[0m\u001b[0msplit\u001b[0m\u001b[0;34m(\u001b[0m\u001b[0;34m'-'\u001b[0m\u001b[0;34m)\u001b[0m\u001b[0;34m]\u001b[0m\u001b[0;34m\u001b[0m\u001b[0;34m\u001b[0m\u001b[0m\n\u001b[0m",
      "\u001b[0;32m/opt/anaconda3/lib/python3.7/site-packages/pandas/core/generic.py\u001b[0m in \u001b[0;36m__getattr__\u001b[0;34m(self, name)\u001b[0m\n\u001b[1;32m   5177\u001b[0m             \u001b[0;32mif\u001b[0m \u001b[0mself\u001b[0m\u001b[0;34m.\u001b[0m\u001b[0m_info_axis\u001b[0m\u001b[0;34m.\u001b[0m\u001b[0m_can_hold_identifiers_and_holds_name\u001b[0m\u001b[0;34m(\u001b[0m\u001b[0mname\u001b[0m\u001b[0;34m)\u001b[0m\u001b[0;34m:\u001b[0m\u001b[0;34m\u001b[0m\u001b[0;34m\u001b[0m\u001b[0m\n\u001b[1;32m   5178\u001b[0m                 \u001b[0;32mreturn\u001b[0m \u001b[0mself\u001b[0m\u001b[0;34m[\u001b[0m\u001b[0mname\u001b[0m\u001b[0;34m]\u001b[0m\u001b[0;34m\u001b[0m\u001b[0;34m\u001b[0m\u001b[0m\n\u001b[0;32m-> 5179\u001b[0;31m             \u001b[0;32mreturn\u001b[0m \u001b[0mobject\u001b[0m\u001b[0;34m.\u001b[0m\u001b[0m__getattribute__\u001b[0m\u001b[0;34m(\u001b[0m\u001b[0mself\u001b[0m\u001b[0;34m,\u001b[0m \u001b[0mname\u001b[0m\u001b[0;34m)\u001b[0m\u001b[0;34m\u001b[0m\u001b[0;34m\u001b[0m\u001b[0m\n\u001b[0m\u001b[1;32m   5180\u001b[0m \u001b[0;34m\u001b[0m\u001b[0m\n\u001b[1;32m   5181\u001b[0m     \u001b[0;32mdef\u001b[0m \u001b[0m__setattr__\u001b[0m\u001b[0;34m(\u001b[0m\u001b[0mself\u001b[0m\u001b[0;34m,\u001b[0m \u001b[0mname\u001b[0m\u001b[0;34m,\u001b[0m \u001b[0mvalue\u001b[0m\u001b[0;34m)\u001b[0m\u001b[0;34m:\u001b[0m\u001b[0;34m\u001b[0m\u001b[0;34m\u001b[0m\u001b[0m\n",
      "\u001b[0;31mAttributeError\u001b[0m: 'Series' object has no attribute 'split'"
     ]
    }
   ],
   "source": [
    "[y for x in datestosplit.split() for y in x.split('-')]"
   ]
  },
  {
   "cell_type": "code",
   "execution_count": null,
   "metadata": {},
   "outputs": [],
   "source": [
    "df = pd.DataFrame({})"
   ]
  },
  {
   "cell_type": "code",
   "execution_count": null,
   "metadata": {},
   "outputs": [],
   "source": []
  },
  {
   "cell_type": "code",
   "execution_count": null,
   "metadata": {},
   "outputs": [],
   "source": []
  }
 ],
 "metadata": {
  "kernelspec": {
   "display_name": "Python 3",
   "language": "python",
   "name": "python3"
  },
  "language_info": {
   "codemirror_mode": {
    "name": "ipython",
    "version": 3
   },
   "file_extension": ".py",
   "mimetype": "text/x-python",
   "name": "python",
   "nbconvert_exporter": "python",
   "pygments_lexer": "ipython3",
   "version": "3.7.4"
  }
 },
 "nbformat": 4,
 "nbformat_minor": 2
}
